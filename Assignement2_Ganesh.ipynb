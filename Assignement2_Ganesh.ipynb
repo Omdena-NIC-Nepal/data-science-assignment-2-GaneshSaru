# Data-Science-Libraries-Assignment-2
# Section 1:
## Task 1: setup and DataFrame Creation
# Install Pandas
! pip install pandas
# Import Pandas 
import pandas as pd
# Create a DataFrame from a dictionary
dict_1 ={
    'Name' : ['Suman', 'Reetu', 'Melina', 'Janak'],
    'Age' : ['23', '24', '29', '22']
}
dict_1
df = pd.DataFrame(dict_1)
df
# Create dataframes from a list of dictionaries
data = [{'Name': 'Manoj', 'Age':'24'}, {'Name': 'Shrejal', 'Age':'10'}, {'Name': 'Prabin', 'Age':'20'}]
data
df = pd.DataFrame(data)
df
# Creating dataframes from file and load a dataset from a CSV file
data2 = pd.read_csv(r"D:\AI Building Capacity\Week3\Session3\messed_dataset.csv")
data2
## Task 2: Viewing and Inspecting Data
# Display the first rows of the DataFrame
print(data2.head())
data2.head()
data2.head(8)
# Display the last few rows of the Datframe
data2.tail()
data2.tail(10)
# Get a Summary of the DataFrame, including basic statics and data types.
data2.info()

data2.describe()
# Display the shape of Dataframe
data2.shape
# Display the column names of the DataFrame
data2.columns.tolist()
## Task 3: Selection and Indexing
# Selecting a single column
data2['Name']
# Selecting multiple Columns
data2[['Name', 'Email', 'Country']]
# Selecting a row by index
data2.iloc[12]
# Selecting rows by index
data2.iloc[5:10]
# Selecting a row by labels
data2.loc[2] # Selects the 3rd row 
# Selecting rows by labels
data2.loc[5:10] 
# Selecting Specific rows and columns using iloc
data2.iloc[0:5, [0, 2]]
# Selecing Specific rows and columns using loc
data2.loc[0:5,['Name', 'Email']]
## Task 4: Handing Missing data`
# Identify the missing values in the DataFrame
data2.isnull().sum()
# Drop rows with missing values.
data2.dropna(inplace = True)
data2.isnull().sum()
# Create a DataFrame from a dictionary with some empty entries
entry ={
    'Name' : ['Suman', 'Reetu', 'Melina', 'Janak', 'Raju'],
    'Age' : ['23', '24', '29', '22','18']
}
entry
df1 = pd.DataFrame(entry)
df1
# Filling missing values with a specified value
df1.fillna(value = {'Age': 0}, inplace = True) # fill the entry with 0 if there is empty or missing values
## Task 5: Data Operations
# Add a new column to the Datframe.
df1['Address'] =['Pokhara','Rampur','Kathmandu','Palpa','Butwal']
df1
list_salary =[3000,5000,2500,9000,6000]
df1['Salary'] = list_salary
df1
# Delete a colun fro the DataFrame.
df1.drop(columns = ['Age'], inplace = True)
df1
# Rename columns in the DataFrame.
df1.rename(columns ={'Name':'First_Name'},inplace = True)
df1
# Apply a function to a column
df1['Salary'] = df1['Salary'].apply(lambda x:x+500) 
df1
## Task 6: GroupBy Operations
student = {
    'Name': ['Suman','Janak', 'Reetu', 'Melina', 'Janak', 'Raju','Melina'],
    'Roll': [1, 10, 2, 5, 10, 12, 5],
    'Marks': [70, 85, 65, 44, 56, 89, 67]
    }
std_df = pd.DataFrame(student)
std_df
# Group by Name
grouped = std_df.groupby('Name')
grouped
# Calculate the mean
mean_marks = grouped['Marks'].mean()
mean_marks
SD_marks = grouped['Marks'].std()
SD_marks
# Iterating over groups and display the group names and data.
for name, group in grouped:
    print("Group Name: {name}")
    print(group,"\n")
## Task 7: Merging and Joining DataFrames
# Creating the First Dataframe with common column 'Id'
fdf= pd.DataFrame({'Id':[1, 2, 3],
                    'C': ['Pokhara', 'Kathmandu', 'Palpa'],
                    'D': [5000, 8000, 6000]},
                    index = ['1','2','3'])
fdf
# Creagint the 2nd DataFrame with common column 'Id'
sdf= pd.DataFrame({'Id':[1, 2, 3],
                    'A': ['Suman', 'Melina', 'Janak'],
                    'B': [23, 29, 22]},
                    index = ['1','2','3'])
sdf
# Merge two DataFrames on a common Column
merged_df = pd.merge(sdf,fdf, on='Id')
merged_df
# Creating the first DataFrame
new1= pd.DataFrame({'C': ['Pokhara', 'Kathmandu', 'Palpa'],
                    'D': [5000, 8000, 6000]},
                    index = ['1','2','3'])
new1
# Creating the 2nd DataFrame
new2= pd.DataFrame({'A': ['Suman', 'Melina', 'Janak'],
                    'B': [23, 29, 22]},
                    index = ['1','2','3'])
new2
# Merging two DataFrames on a common column
joined_df = new2.join(new1)
joined_df
## Task 8: Working with Dates and Times
std
# Creating a datetime ndex for a DataFrame
std_df['Date'] = pd.date_range(start = '7/5/2024', periods = len(std_df), freq = 'D')
std_df
# Converting a column to datetme
std_df['Date'] = pd.to_datetime(std_df['Date'])
std_df
df.info()
# Extracting date components
std_df['Year'] = std_df['Date'].dt.year
std_df
std_df['Month'] = std_df['Date'].dt.month
std_df['Day'] = std_df['Date'].dt.day
std_df
## Task 9: Input and Output
# Read data from a CSV file into a DataFrame.
file = pd.read_csv(r"D:\AI Building Capacity\Week3\Session3\file_name.csv")
IO_df = pd.DataFrame(file)
IO_df
# Writing to a csv file
df.to_csv('fileName.csv', index = False)
xlsx_file = pd.read_excel(r"D:\AI Building Capacity\Week3\Session3\SaleData.xlsx")
xlsx_df = pd.DataFrame(xlsx_file)
xlsx_df
xlsx_df.to_excel('Sale_Data.xlsx', index = False)
# Section 2
## Task 10: visualization
! pip install matplotlib
# Matplotlib
# importing matplotlib
import matplotlib.pyplot as plt
### Line plot
x = [1,2,3,4,5]
y = [3,9,5,11,7]
plt.plot(x,y)
plt.xlabel('X-axis')
plt.ylabel('Y-axis')
plt.title('Simple line chart')
plt.show()
### Scatter Plot
plt.scatter(x,y)
plt.xlabel('X-axis')
plt.ylabel('Y-axis')
plt.title('Simple Scatter plot')
plt.show()
### Bar Plot
- used to compare Quatittes
Semester = ['I', 'II', 'III', 'Iv']
frequency = [48, 55, 40, 35]
plt.bar(Semester, frequency)
plt.xlabel("Semester")
plt.ylabel("No of Students")
plt.title("Bar plot")
plt.show()
### Histograms
- Used to show the distribution of our dataset
data = [1, 1, 1, 1, 2, 2, 2, 2, 2, 3, 3, 3, 3, 3, 4, 4, 5, 5, 7,7,7]
plt.hist(data, bins = 8)
plt.xlabel("Values")
plt.ylabel("Frequencies")
plt.title("Simple Histogram plot")
plt.show()
### Bix plots
- Show the distribution of the data based on 5 summary statistics
    - Minimum, maximum, first Quartile, median, third Quartile
plt.boxplot(data)
plt.title('Box plot')
plt.show()
# SeaBorn
! pip install seaborn
# Import the Seaborn
import seaborn as sns
import pandas as pd
## Basic Plotting
data = {
    'Laptop_Size(ft)': [13.3, 14.0, 15.6, 13.3, 17.0],
    'Number_of_Laptops': [150, 200, 120, 300, 100],
    'Year_Built': [2020, 2019, 2018, 2021, 2022],
    'Company': ['Dell', 'HP', 'Apple', 'Lenovo', 'Asus'],
    'Price($)': [999, 1299, 899, 1499, 1799]
}

df = pd.DataFrame(data)
df
### Scatter Plot
# Scatter plot
sns.scatterplot(x= "Year_Built", y = "Number_of_Laptops", data = df)
plt.title("Scatter plot")
plt.show()
### Line plot
# Line plot
sns.lineplot(x= "Year_Built", y = "Number_of_Laptops", data = df)
plt.title("Line plot")
plt.show() 
### Bar plot
sns.barplot(x= "Company", y = "Price($)", data = df)
plt.title("Bar plot")
plt.show() 
